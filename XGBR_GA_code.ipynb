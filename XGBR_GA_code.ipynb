{
  "nbformat": 4,
  "nbformat_minor": 0,
  "metadata": {
    "colab": {
      "private_outputs": true,
      "provenance": [],
      "mount_file_id": "1VN4EDpj4YvH6M5k5cjD5Y8cTlV-EPNS1",
      "authorship_tag": "ABX9TyNbbVv02I7hzcTncnhsNdld",
      "include_colab_link": true
    },
    "kernelspec": {
      "name": "python3",
      "display_name": "Python 3"
    },
    "language_info": {
      "name": "python"
    }
  },
  "cells": [
    {
      "cell_type": "markdown",
      "metadata": {
        "id": "view-in-github",
        "colab_type": "text"
      },
      "source": [
        "<a href=\"https://colab.research.google.com/github/lokkster/NPC-ML-GA/blob/main/XGBR_GA_code.ipynb\" target=\"_parent\"><img src=\"https://colab.research.google.com/assets/colab-badge.svg\" alt=\"Open In Colab\"/></a>"
      ]
    },
    {
      "cell_type": "code",
      "source": [
        "!pip install xgboost==1.6.1\n",
        "!pip install scikit-optimize"
      ],
      "metadata": {
        "id": "DYEtYIDa1IwW"
      },
      "execution_count": null,
      "outputs": []
    },
    {
      "cell_type": "code",
      "execution_count": null,
      "metadata": {
        "id": "XWMGLVOyza92"
      },
      "outputs": [],
      "source": [
        "import pandas as pd\n",
        "data=pd.read_csv(\"/content/drive/MyDrive/Colab Notebooks/data/full data.csv\")"
      ]
    },
    {
      "cell_type": "code",
      "source": [
        "from sklearn.model_selection import train_test_split\n",
        "X=data.iloc[:,:5].values\n",
        "Y = data.iloc[:,5:].values\n",
        "\n",
        "train_data,test_data,train_targets,test_targets=train_test_split(X,Y,test_size=0.11,random_state=42)"
      ],
      "metadata": {
        "id": "YZmcPThc0Gho"
      },
      "execution_count": null,
      "outputs": []
    },
    {
      "cell_type": "code",
      "source": [
        "from sklearn.metrics import mean_absolute_error\n",
        "import numpy as np\n",
        "\n",
        "def mae(actual,pred):\n",
        "     return (mean_absolute_error(actual,pred))\n",
        "    \n",
        "from xgboost import XGBRegressor\n",
        "xgbr=XGBRegressor()"
      ],
      "metadata": {
        "id": "bciRvO_50Jyl"
      },
      "execution_count": null,
      "outputs": []
    },
    {
      "cell_type": "code",
      "source": [
        "xgbrne=XGBRegressor(n_estimators=1000,min_child_weight=1,max_depth=7,subsample=0.9,colsample_bytree=.9,learning_rate=0.1)\n",
        "xgbrne.fit(train_data,train_targets)\n",
        "predxgbne=xgbrne.predict(test_data)\n",
        "print(predxgbne)\n",
        "print(test_targets)\n",
        "print(\"mae:\",mae(test_targets,predxgbne))\n",
        "\n",
        "xgbrne.save_model('xgbr.h5')"
      ],
      "metadata": {
        "id": "L6dEhBlX0qic"
      },
      "execution_count": null,
      "outputs": []
    },
    {
      "cell_type": "code",
      "source": [
        "from sklearn.metrics import r2_score\n",
        "r2=r2_score(test_targets,predxgbne,multioutput=\"variance_weighted\")\n",
        "print(r2)\n",
        "from sklearn.metrics import mean_squared_error\n",
        "from math import sqrt\n",
        "rmse=sqrt(mean_squared_error(test_targets,predxgbne))\n",
        "print(\"rmse:\",rmse)"
      ],
      "metadata": {
        "id": "QaWhabju073H"
      },
      "execution_count": null,
      "outputs": []
    },
    {
      "cell_type": "markdown",
      "source": [
        "Loading model"
      ],
      "metadata": {
        "id": "lsjRYYg_1alH"
      }
    },
    {
      "cell_type": "code",
      "source": [
        "from xgboost import XGBRegressor\n",
        "new_model=XGBRegressor()\n",
        "new_model.load_model('/content/drive/MyDrive/Colab Notebooks/xgbr_avggc5in1110areanorm.h5')"
      ],
      "metadata": {
        "id": "MLClEyFP1KWz"
      },
      "execution_count": null,
      "outputs": []
    },
    {
      "cell_type": "markdown",
      "source": [
        "Defining inputs of prediction"
      ],
      "metadata": {
        "id": "XJKmXbg51Vzv"
      }
    },
    {
      "cell_type": "code",
      "source": [
        "def prediction(input):\n",
        "   \n",
        "   pred=new_model.predict(input)\n",
        "   preddf=pd.DataFrame(pred,index=None)\n",
        "   predc2h4=preddf[2]\n",
        "   predacetic=preddf[3]\n",
        "   predeth=preddf[4]\n",
        "   predvalue=predc2h4+predacetic+predeth\n",
        "   predarr=predvalue.to_numpy()\n",
        "\n",
        "   return predarr"
      ],
      "metadata": {
        "id": "RJaiOxE51SNH"
      },
      "execution_count": null,
      "outputs": []
    },
    {
      "cell_type": "markdown",
      "source": [
        "Define Fitness"
      ],
      "metadata": {
        "id": "GzddxPLr1e8A"
      }
    },
    {
      "cell_type": "code",
      "source": [
        "def fitness(input):\n",
        "    ans=prediction(input)\n",
        "    return ans"
      ],
      "metadata": {
        "id": "DpesDcJo1eCE"
      },
      "execution_count": null,
      "outputs": []
    },
    {
      "cell_type": "markdown",
      "source": [
        "Generating solution pool"
      ],
      "metadata": {
        "id": "lyCelVDZ1ggP"
      }
    },
    {
      "cell_type": "code",
      "source": [
        "import random\n",
        "input=[]\n",
        "for s in range(30):\n",
        "    NPCtype=random.randint(1,2)\n",
        "    NPCweight=random.randrange(28000,75000,50)/1000\n",
        "    loading=random.randrange(295,495,5)/1000\n",
        "    KOHconc=random.choice([1,3,0.75])\n",
        "    current=random.randrange(100,1001,50)\n",
        "\n",
        "\n",
        "    input.append([(NPCtype,NPCweight,loading,KOHconc,current)])\n",
        "\n",
        "input=np.asarray(input)\n",
        "mating_pool=input.reshape(input.shape[0],input.shape[2])"
      ],
      "metadata": {
        "id": "5CFKv_oW1jYn"
      },
      "execution_count": null,
      "outputs": []
    },
    {
      "cell_type": "code",
      "source": [
        "#select first four as parents(best 4)\n",
        "def parent_selection(mating_pool):\n",
        "    fitness_mating_pool=prediction(mating_pool)\n",
        "    mix_mating_fitness=np.column_stack((mating_pool,fitness_mating_pool))\n",
        "\n",
        "    mixsort=mix_mating_fitness[mix_mating_fitness[:, 5].argsort()[::-1]]\n",
        "    parents_pool=mixsort[:,0:5]\n",
        "    parents_results=mixsort[:,5]\n",
        "    return parents_pool\n",
        "\n",
        "print(parent_selection(mating_pool))"
      ],
      "metadata": {
        "id": "dAXX_ap21r1N"
      },
      "execution_count": null,
      "outputs": []
    },
    {
      "cell_type": "code",
      "source": [
        "# crossover(for mating)\n",
        "def uniform_crossover(A,B,C,D,E,F,P):\n",
        "    for i in range(len(P)):\n",
        "        if P[i]<0.5:\n",
        "          temp=A[i]\n",
        "          A[i]=B[i]\n",
        "          B[i]=C[i]\n",
        "          C[i]=D[i]\n",
        "          D[i]=E[i]\n",
        "          E[i]=F[i]\n",
        "          F[i]=temp\n",
        "    return A,B,C,D,E,F\n",
        "\n",
        "def crossover_process(mating_pool):\n",
        "    A=mating_pool[0]\n",
        "    B=mating_pool[1]\n",
        "    C=mating_pool[2]\n",
        "    D=mating_pool[3]\n",
        "    E=mating_pool[4]\n",
        "    F=mating_pool[5]\n",
        "    P=np.random.rand(5)\n",
        "    crossover_pool=uniform_crossover(A,B,C,D,E,F,P)\n",
        "    crossover_pool=np.asarray(crossover_pool)\n",
        "  \n",
        "    return crossover_pool\n"
      ],
      "metadata": {
        "id": "RjsGKyN81vXi"
      },
      "execution_count": null,
      "outputs": []
    },
    {
      "cell_type": "code",
      "source": [
        "#mutation\n",
        "def mutation(crossover_pool):\n",
        "    mutation_rate=random.uniform(0.7,1.3)\n",
        "    mutation_X=crossover_pool[:,0]\n",
        "    mutation_pool=crossover_pool[:,1:]*mutation_rate\n",
        "    final_mutation=np.column_stack((mutation_X,mutation_pool))\n",
        "    return final_mutation"
      ],
      "metadata": {
        "id": "yPhvrMpW1vR1"
      },
      "execution_count": null,
      "outputs": []
    },
    {
      "cell_type": "code",
      "source": [
        "#survival selection by def\n",
        "def survivor_selection():\n",
        "    new_mating_pool=np.insert(mutation(crossover_process(parent_selection(mating_pool))),0,mating_pool,axis=0)\n",
        "    fitness_new_pool=fitness(new_mating_pool)\n",
        "    mix_new_fitness=np.column_stack((new_mating_pool,fitness_new_pool))\n",
        "\n",
        "    mixsortnew=mix_new_fitness[mix_new_fitness[:, 5].argsort()]\n",
        "    mixsortnew =mixsortnew[::-1]\n",
        "    mixsortnew=mixsortnew[:]\n",
        "    new_mating_pool=mixsortnew[0:30,0:5]\n",
        "    return new_mating_pool\n",
        "  \n",
        "\n"
      ],
      "metadata": {
        "id": "CLp8E-4A1zKy"
      },
      "execution_count": null,
      "outputs": []
    },
    {
      "cell_type": "markdown",
      "source": [
        "Define GA"
      ],
      "metadata": {
        "id": "pKqO2wTO177D"
      }
    },
    {
      "cell_type": "code",
      "source": [
        "def genetic_algorithm():\n",
        "    parents=parent_selection(mating_pool)\n",
        "    \n",
        "    \n",
        "    cross_p=crossover_process(parents)\n",
        "   \n",
        "    mutant_p=mutation(cross_p)\n",
        "    survived_p=survivor_selection()\n",
        "    return survived_p"
      ],
      "metadata": {
        "id": "2pJKRC8v17Zu"
      },
      "execution_count": null,
      "outputs": []
    },
    {
      "cell_type": "markdown",
      "source": [
        "Run GA"
      ],
      "metadata": {
        "id": "XD7ONLuL1_gi"
      }
    },
    {
      "cell_type": "code",
      "source": [
        "initial_gen=0\n",
        "max_gen=1000\n",
        "\n",
        "import numpy as np\n",
        "while initial_gen<max_gen:\n",
        "   x_new=genetic_algorithm()\n",
        "   initial_gen+=1 \n",
        "   mating_pool=x_new\n",
        "   \n",
        "   first=x_new[0]\n",
        "   first=np.asarray(first)\n",
        "\n",
        "   test=new_model.predict(x_new)\n",
        "   c2test=test[:,2]+test[:,4]+test[:,3]\n",
        "\n",
        "   print(c2test[0])\n",
        "   if c2test[0]>=70 : break"
      ],
      "metadata": {
        "id": "SWWRsOkj2BHV"
      },
      "execution_count": null,
      "outputs": []
    },
    {
      "cell_type": "code",
      "source": [
        "initial_gen=0\n",
        "max_gen=1000\n",
        "\n",
        "import numpy as np\n",
        "while initial_gen<max_gen:\n",
        "   x_new=genetic_algorithm()\n",
        "   initial_gen+=1 \n",
        "   mating_pool=x_new\n",
        "   \n",
        "   first=x_new[0]\n",
        "   first=np.asarray(first)\n",
        "\n",
        "   test=new_model.predict(x_new)\n",
        "   c2test=test[:,2]+test[:,4]+test[:,3]\n",
        "\n",
        "   print(c2test[0])\n",
        "   if c2test[0]>=70 : break"
      ],
      "metadata": {
        "id": "4Kl6-MLFBOi-"
      },
      "execution_count": null,
      "outputs": []
    }
  ]
}